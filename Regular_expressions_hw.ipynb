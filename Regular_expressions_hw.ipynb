{
 "cells": [
  {
   "cell_type": "code",
   "execution_count": 10,
   "metadata": {},
   "outputs": [],
   "source": [
    "import os\n",
    "import re\n",
    "import matplotlib.pyplot as plt\n",
    "import numpy as np"
   ]
  },
  {
   "cell_type": "code",
   "execution_count": 2,
   "metadata": {},
   "outputs": [
    {
     "data": {
      "text/plain": [
       "['ftps', 'references', '2430AD']"
      ]
     },
     "execution_count": 2,
     "metadata": {},
     "output_type": "execute_result"
    }
   ],
   "source": [
    "os.chdir(\"/home/ministreliya/IB/\")\n",
    "os.listdir()\n",
    "#os.mkdir(\"regexp\")\n",
    "os.chdir(\"/home/ministreliya/IB/regexp/\")\n",
    "os.listdir()"
   ]
  },
  {
   "cell_type": "markdown",
   "metadata": {},
   "source": [
    "TASK 1"
   ]
  },
  {
   "cell_type": "code",
   "execution_count": 10,
   "metadata": {},
   "outputs": [
    {
     "name": "stdout",
     "output_type": "stream",
     "text": [
      "--2022-12-14 23:00:16--  https://raw.githubusercontent.com/Serfentum/bf_course/master/15.re/references\n",
      "Resolving raw.githubusercontent.com (raw.githubusercontent.com)... 185.199.109.133, 185.199.110.133, 185.199.111.133, ...\n",
      "Connecting to raw.githubusercontent.com (raw.githubusercontent.com)|185.199.109.133|:443... connected.\n",
      "HTTP request sent, awaiting response... 200 OK\n",
      "Length: 1206044 (1,1M) [text/plain]\n",
      "Saving to: ‘references’\n",
      "\n",
      "references          100%[===================>]   1,15M  3,53MB/s    in 0,3s    \n",
      "\n",
      "2022-12-14 23:00:17 (3,53 MB/s) - ‘references’ saved [1206044/1206044]\n",
      "\n"
     ]
    }
   ],
   "source": [
    "!wget https://raw.githubusercontent.com/Serfentum/bf_course/master/15.re/references"
   ]
  },
  {
   "cell_type": "code",
   "execution_count": 30,
   "metadata": {},
   "outputs": [
    {
     "name": "stdout",
     "output_type": "stream",
     "text": [
      "study_accession\tsample_accession\tsecondary_sample_accession\texperiment_accession\trun_accession\ttax_id\tscientific_name\tinstrument_model\tlibrary_layout\tfastq_ftp\tfastq_galaxy\tsubmitted_ftp\tsubmitted_galaxy\tsra_ftp\tsra_galaxy\tcram_index_ftp\tcram_index_galaxy\r\n",
      "PRJEB2794\tSAMEA3448354\tERS745938\tERX1143981\tERR1063831\t1773\tMycobacterium tuberculosis\tIllumina HiSeq 2000\tPAIRED\tftp.sra.ebi.ac.uk/vol1/fastq/ERR106/001/ERR1063831/ERR1063831_1.fastq.gz;ftp.sra.ebi.ac.uk/vol1/fastq/ERR106/001/ERR1063831/ERR1063831_2.fastq.gz\tftp.sra.ebi.ac.uk/vol1/fastq/ERR106/001/ERR1063831/ERR1063831_1.fastq.gz;ftp.sra.ebi.ac.uk/vol1/fastq/ERR106/001/ERR1063831/ERR1063831_2.fastq.gz\tftp.sra.ebi.ac.uk/vol1/ERA524/ERA524472/ERR1063831.md5;ftp.sra.ebi.ac.uk/vol1/ERA524/ERA524472/cram/17150_3#49.cram\tftp.sra.ebi.ac.uk/vol1/ERA524/ERA524472/ERR1063831.md5;ftp.sra.ebi.ac.uk/vol1/ERA524/ERA524472/cram/17150_3#49.cram\t\t\t\t\r\n",
      "PRJEB2794\tSAMEA3448355\tERS745939\tERX1143982\tERR1063832\t1773\tMycobacterium tuberculosis\tIllumina HiSeq 2000\tPAIRED\tftp.sra.ebi.ac.uk/vol1/fastq/ERR106/002/ERR1063832/ERR1063832_1.fastq.gz;ftp.sra.ebi.ac.uk/vol1/fastq/ERR106/002/ERR1063832/ERR1063832_2.fastq.gz\tftp.sra.ebi.ac.uk/vol1/fastq/ERR106/002/ERR1063832/ERR1063832_1.fastq.gz;ftp.sra.ebi.ac.uk/vol1/fastq/ERR106/002/ERR1063832/ERR1063832_2.fastq.gz\tftp.sra.ebi.ac.uk/vol1/ERA524/ERA524472/ERR1063832.md5;ftp.sra.ebi.ac.uk/vol1/ERA524/ERA524472/cram/17150_3#50.cram\tftp.sra.ebi.ac.uk/vol1/ERA524/ERA524472/ERR1063832.md5;ftp.sra.ebi.ac.uk/vol1/ERA524/ERA524472/cram/17150_3#50.cram\t\t\t\t\r\n"
     ]
    }
   ],
   "source": [
    "!head -n 3 references"
   ]
  },
  {
   "cell_type": "code",
   "execution_count": 3,
   "metadata": {},
   "outputs": [],
   "source": [
    "with open('references') as ref:\n",
    "    whole = ref.read()\n",
    "\n",
    "ftp = re.findall(r'ftp\\.[./#\\w]*', whole)\n",
    "\n",
    "with open('ftps', 'w') as ftps:\n",
    "    for link in ftp:\n",
    "        print(link, file=ftps, sep = '\\n')"
   ]
  },
  {
   "cell_type": "markdown",
   "metadata": {},
   "source": [
    "TASK 2"
   ]
  },
  {
   "cell_type": "code",
   "execution_count": 19,
   "metadata": {},
   "outputs": [
    {
     "name": "stdout",
     "output_type": "stream",
     "text": [
      "--2022-12-14 23:08:41--  https://raw.githubusercontent.com/Serfentum/bf_course/master/15.re/2430AD\n",
      "Resolving raw.githubusercontent.com (raw.githubusercontent.com)... 185.199.108.133, 185.199.111.133, 185.199.110.133, ...\n",
      "Connecting to raw.githubusercontent.com (raw.githubusercontent.com)|185.199.108.133|:443... connected.\n",
      "HTTP request sent, awaiting response... 200 OK\n",
      "Length: 16759 (16K) [text/plain]\n",
      "Saving to: ‘2430AD’\n",
      "\n",
      "2430AD              100%[===================>]  16,37K  --.-KB/s    in 0,004s  \n",
      "\n",
      "2022-12-14 23:08:42 (4,30 MB/s) - ‘2430AD’ saved [16759/16759]\n",
      "\n"
     ]
    }
   ],
   "source": [
    "!wget https://raw.githubusercontent.com/Serfentum/bf_course/master/15.re/2430AD"
   ]
  },
  {
   "cell_type": "code",
   "execution_count": 20,
   "metadata": {},
   "outputs": [
    {
     "name": "stdout",
     "output_type": "stream",
     "text": [
      " 2430 A.D.\r\n",
      "\r\n",
      "Between midnight and dawn, when sleep will not come and all the old wounds begin to ache, I often have a nightmare vision of a future world in which there are billions of people, all numbered and registered, with not a gleam of genius anywhere, not an original mind, a rich personality, on the whole packed globe.\r\n",
      "\r\n",
      "-J.B. Priestly.\r\n",
      "\r\n",
      "\"He'll talk to us,\" said Alvarez when the other stepped out the door.\r\n",
      "\r\n",
      "\"Good,\" said Bunting. \"Social pressure is bound to get to him eventually. An odd character. How he escaped genetic adjustment I'll never know. -But you do the talking. He irritates me past tact.\"\r\n",
      "\r\n"
     ]
    }
   ],
   "source": [
    "!head 2430AD"
   ]
  },
  {
   "cell_type": "code",
   "execution_count": 4,
   "metadata": {},
   "outputs": [
    {
     "name": "stdout",
     "output_type": "stream",
     "text": [
      "All numbers in text:  2430 1969 2430 2430 57 57 1970 3.68 35 460 2430\n",
      "Unique numbers in text:  57 460 2430 3.68 1970 35 1969\n"
     ]
    }
   ],
   "source": [
    "with open('2430AD') as AD2430:\n",
    "    text = AD2430.read()\n",
    "    \n",
    "print(\"All numbers in text: \", *re.findall(r'\\d{1,}\\S\\d{1,}|\\d{1,}', text))\n",
    "\n",
    "print(\"Unique numbers in text: \", *set(re.findall(r'\\d{1,}\\S\\d{1,}|\\d{1,}', text)))"
   ]
  },
  {
   "cell_type": "markdown",
   "metadata": {},
   "source": [
    "TASK 3"
   ]
  },
  {
   "cell_type": "code",
   "execution_count": 45,
   "metadata": {},
   "outputs": [
    {
     "name": "stdout",
     "output_type": "stream",
     "text": [
      "['A', 'and', 'dawn', 'and', 'all', 'ache', 'have', 'a', 'nightmare', 'a', 'are', 'all', 'and', 'a', 'gleam', 'anywhere', 'an', 'original', 'a', 'personality', 'packed', 'talk', 'said', 'Alvarez', 'said', 'Social', 'eventually', 'An', 'character', 'escaped', 'adjustment', 'talking', 'irritates', 'past', 'tact', 'along', 'Trail', 'was', 'as', 'always', 'sparsely', 'have', 'taken', 'and', 'Alvarez', 'walking', 'Alvarez', 'was', 'tall', 'and', 'rather', 'athletic', 'a', 'muscular', 'activities', 'stairs', 'and', 'rampways', 'instance', 'almost', 'an', 'character', 'and', 'avoided', 'sunlamps', 'and', 'was', 'pale', 'said', 'want', 'can', 'have', 'square', 'space', 'and', 'has', 'apartment', 'Rather', 'a', 'a', 'way', 'said', 'Alvarez', 'And', 'a', 'Alvarez', 'added', 'matter', 'reach', 'peak', 'reach', 'reach', 'goal', 'All', 'mankind', 'And', 'said', 'at', 'that', 'way', 'that', 'against', 'plastic', 'passed', 'and', 'saw', 'distance', 'was', 'a', 'plankton', 'varieties', 'almost', 'that', 'above', 'far', 'above', 'was', 'giant', 'leading', 'sea', 'And', 'another', 'as', 'large', 'far', 'leading', 'sea', 'destination', 'was', 'a', 'back', 'that', 'thousands', 'had', 'passed', 'was', 'about', 'an', 'intangible', 'and', 'space', 'wall', 'was', 'blank', 'And', 'was', 'air', 'said', 'Alvarez', 'Inhuman', 'Literally', 'said', 'at', 'easy', 'signaled', 'waited', 'all', 'around', 'disregarded', 'manner', 'was', 'always', 'Cranwitz', 'was', 'waiting', 'same', 'all', 'gray', 'hair', 'and', 'uneasily', 'May', 'asked', 'Alvarez', 'Cranwitz', 'was', 'Cranwitz', 'and', 'sat', 'Cranwitz', 'remained', 'standing', 'and', 'said', 'Alvarez', 'said', 'ask', 'capacity', 'as', 'Representative', 'as', 'Representative', 'are', 'ready', 'social', 'Cranwitz', 'finally', 'was', 'and', 'had', 'clear', 'throat', 'want', 'said', 'have', 'a', 'contract', 'standing', 'family', 'has', 'always', 'had', 'all', 'and', 'said', 'irritably', 'asking', 'accede', 'voluntarily', 'Alvarez', 'understand', 'situation', 'what', 'was', 'father', 'really', 'what', 'was', 'last', 'year', 'Cranwitz', 'jaw', 'that', 'rate', 'has', 'year', 'amount', 'and', 'has', 'changed', 'That', 'year', 'year', 'year', 'carry', 'Alvarez', 'was', 'year', 'was', 'and', 'said', 'year', 'reached', 'goal', 'rate', 'exactly', 'matches', 'death', 'rate', 'population', 'exactly', 'steady', 'replacement', 'and', 'sea', 'farms', 'are', 'a', 'steady', 'state', 'stand', 'all', 'mankind', 'and', 'Because', 'a', 'Because', 'a', 'And', 'creatures', 'Guinea', 'Rabbits', 'and', 'lizards', 'haven', 'taken', 'a', 'all', 'What', 'harm', 'What', 'demanded', 'Cranwitz', 'said', 'at', 'was', 'a', 'Alvarez', 'had', 'heard', 'that', 'said', 'as', 'sympathy', 'as', 'and', 'a', 'certain', 'amount', 'real', 'sympathy', 'was', 'a', 'ago', 'vast', 'care', 'And', 'years', 'that', 'dinosaurs', 'have', 'man', 'ignorant', 'can', 'compare', 'real', 'asked', 'Cranwitz', 'was', 'larger', 'said', 'Cranwitz', 'Year', 'year', 'had', 'many', 'All', 'large', 'animals', 'All', 'carnivores', 'small', 'plants', 'creatures', 'Alvarez', 'said', 'What', 'wants', 'Mankind', 'against', 'Social', 'persuade', 'against', 'real', 'resistance', 'want', 'really', 'are', 'What', 'Alvarez', 'was', 'insinuating', 'Cranwitz', 'sat', 'A', 'certain', 'Someday', 'reach', 'Mankind', 'want', 'animals', 'want', 'start', 'a', 'variety', 'faded', 'stare', 'said', 'What', 'are', 'reached', 'said', 'Cranwitz', 'and', 'established', 'a', 'and', 'abandoned', 'all', 'solar', 'capable', 'human', 'Cranwitz', 'said', 'are', 'stars', 'Earthlike', 'Alvarez', 'head', 'reach', 'have', 'finally', 'Earth', 'and', 'human', 'have', 'made', 'and', 'Earth', 'margin', 'a', 'starship', 'capable', 'years', 'space', 'Have', 'wasn', 'last', 'said', 'Cranwitz', 'was', 'said', 'Alvarez', 'haven', 'romanticized', 'madness', 'was', 'a', 'and', 'was', 'and', 'reason', 'than', 'half', 'substance', 'war', 'and', 'preparations', 'war', 'ran', 'wasted', 'and', 'at', 'chance', 'and', 'tolerated', 'deviants', 'all', 'dreaded', 'what', 'called', 'population', 'and', 'dreamed', 'reaching', 'as', 'a', 'escape', 'combination', 'and', 'advances', 'that', 'changed', 'case', 'are', 'was', 'establishment', 'a', 'and', 'art', 'planetary', 'peace', 'and', 'a', 'placid', 'humanity', 'peacefully', 'and', 'multiplication', 'was', 'advance', 'exactly', 'many', 'Earth', 'many', 'calories', 'reached', 'Earth', 'and', 'that', 'many', 'carbon', 'plants', 'each', 'year', 'and', 'many', 'animal', 'plants', 'Earth', 'animal', 'Cranwitz', 'finally', 'And', 'all', 'human', 'Exactly', 'meant', 'all', 'animal', 'That', 'way', 'said', 'angrily', 'Alvarez', 'again', 'Cranwitz', 'said', 'replaced', 'placoderms', 'had', 'replaced', 'replaced', 'amphibians', 'and', 'replaced', 'mammals', 'at', 'last', 'has', 'reached', 'peak', 'Earth', 'bears', 'population', 'human', 'demanded', 'Cranwitz', 'vast', 'all', 'face', 'land', 'plants', 'and', 'animals', 'what', 'have', 'And', 'all', 'uninhabited', 'ocean', 'has', 'a', 'plankton', 'plankton', 'harvest', 'and', 'as', 'organic', 'matter', 'plankton', 'said', 'Alvarez', 'war', 'are', 'regulated', 'deaths', 'are', 'peaceful', 'infants', 'are', 'genetically', 'adjusted', 'and', 'Earth', 'are', 'normal', 'brain', 'largest', 'conceivable', 'quantity', 'conceivable', 'matter', 'And', 'all', 'that', 'brain', 'what', 'heaved', 'an', 'audible', 'exasperation', 'Alvarez', 'calm', 'said', 'destination', 'Perhaps', 'animals', 'Earth', 'was', 'was', 'necessary', 'and', 'take', 'chances', 'was', 'wasteful', 'Earth', 'was', 'had', 'and', 'had', 'after', 'mankind', 'came', 'had', 'learn', 'way', 'was', 'learning', 'had', 'take', 'chances', 'attempt', 'mad', 'mankind', 'has', 'have', 'planet', 'and', 'Alvarez', 'paused', 'that', 'said', 'want', 'Cranwitz', 'wants', 'generation', 'that', 'has', 'reached', 'and', 'want', 'having', 'reached', 'animals', 'are', 'way', 'Cranwitz', 'head', 'take', 'all', 'have', 'what', 'human', 'said', 'human', 'another', 'human', 'brain', 'what', 'measure', 'can', 'evaluate', 'human', 'brain', 'already', 'have', 'said', 'Alvarez', 'and', 'that', 'and', 'are', 'All', 'Earth', 'prepared', 'celebrate', 'year', 'AD', 'year', 'that', 'planet', 'at', 'last', 'goal', 'achieved', 'all', 'Shall', 'fan', 'a', 'flaw', 'a', 'flaw', 'Cranwitz', 'Earth', 'has', 'waiting', 'years', 'wait', 'cannot', 'and', 'voluntarily', 'a', 'said', 'all', 'say', 'that', 'Cranwitz', 'acted', 'and', 'that', 'act', 'was', 'reached', 'And', 'Cranwitz', 'said', 'imitating', 'And', 'say', 'that', 'Alvarez', 'and', 'persuaded', 'said', 'Alvarez', 'audible', 'annoyance', 'Cranwitz', 'can', 'against', 'Whatever', 'and', 'that', 'way', 'are', 'an', 'idealist', 'can', 'that', 'last', 'many', 'Cranwitz', 'and', 'Alvarez', 'hand', 'waved', 'and', 'said', 'a', 'remained', 'Cranwitz', 'Can', 'have', 'day', 'animals', 'And', 'And', 'stand', 'mankind', 'and', 'And', 'Alvarez', 'said', 'And', 'and', 'vast', 'continental', 'human', 'placidly', 'human', 'placidly', 'ate', 'half', 'a', 'carefully', 'made', 'talked', 'heat', 'ran', 'machinery', 'organized', 'libraries', 'amused', 'and', 'varied', 'machinery', 'repaired', 'plankton', 'planetary', 'ocean', 'basked', 'and', 'and', 'and', 'and', 'and', 'transferred', 'and', 'that', 'And', 'human', 'wastes', 'gathered', 'and', 'irradiated', 'and', 'and', 'human', 'and', 'treated', 'and', 'and', 'was', 'back', 'ocean', 'And', 'all', 'was', 'as', 'had', 'decades', 'and', 'millennia', 'Cranwitz', 'creatures', 'a', 'last', 'guinea', 'a', 'gaze', 'a', 'blade', 'grass', 'all', 'last', 'Earth', 'that', 'humans', 'humans', 'and', 'seared', 'plants', 'and', 'cages', 'and', 'animals', 'appropriate', 'vapors', 'and', 'and', 'last', 'was', 'and', 'mankind', 'and', 'was', 'Cranwitz', 'departed', 'Cranwitz', 'also', 'vapors', 'and', 'want', 'And', 'after', 'that', 'was', 'really', 'all', 'Earth', 'all', 'inhabitants', 'and', 'all', 'human', 'brain', 'was', 'Cranwitz', 'unusual', 'idea', 'universal', 'placidity', 'that', 'meant', 'that', 'had', 'at', 'last', 'achieved', 'A', 'was', 'and', 'had', 'paid', 'fears', 'unallayed', 'That', 'had', 'accepted', 'was', 'had', 'taken', 'was', 'GREATEST', 'ASSET', 'Campbell', 'same', 'again', 'years', 'and', 'Magazine', 'said', 'was', 'handing', 'that', 'had', 'at', 'a', 'and', 'said', 'necessarily', 'agree', 'another', 'read', 'and', 'hadn', 'about', 'crazy', 'about', 'unable', 'because', 'was', 'ashamed', 'and', 'was', 'great', 'man', 'feared', 'as', 'jackass', 'taking', 'that', 'had', 'added', 'favor', 'many', 'many', 'had', 'And', 'case', 'as', 'that', 'years', 'have', 'far', 'than', 'years', 'stayed', 'and', 'that', 'population', 'Earth', 'estimated', 'rate', 'increase', 'that', 'population', 'years', 'rate', 'Increase', 'can', 'maintained', 'years', 'year', 'A', 'human', 'and', 'equal', 'total', 'animal', 'Earth', 'that', 'above']\n"
     ]
    }
   ],
   "source": [
    "print(re.findall(r'\\w*[aA]\\w*', text))"
   ]
  },
  {
   "cell_type": "markdown",
   "metadata": {},
   "source": [
    "TASK 4 "
   ]
  },
  {
   "cell_type": "code",
   "execution_count": 6,
   "metadata": {},
   "outputs": [
    {
     "name": "stdout",
     "output_type": "stream",
     "text": [
      "['Yes!', 'Literally!', 'There was once a time!', 'Centuries ago!', 'Cranwitz!', 'If we succeed!']\n"
     ]
    }
   ],
   "source": [
    "print(re.findall(r'[A-Z][\\w\\s]*!', text))"
   ]
  },
  {
   "cell_type": "markdown",
   "metadata": {},
   "source": [
    "TASK 5"
   ]
  },
  {
   "cell_type": "code",
   "execution_count": 7,
   "metadata": {},
   "outputs": [
    {
     "name": "stdout",
     "output_type": "stream",
     "text": [
      "I found 2942 words in text\n",
      "I found 919 unique words in text\n"
     ]
    }
   ],
   "source": [
    "all_words = re.findall(r'[a-zA-Z]\\w*', text)\n",
    "print(f\"I found {len(all_words)} words in text\")\n",
    "\n",
    "unique_words = list(set([x.lower() for x in all_words]))\n",
    "print(f\"I found {len(unique_words)} unique words in text\")\n",
    "\n",
    "len_words = [len(x) for x in unique_words]"
   ]
  },
  {
   "cell_type": "code",
   "execution_count": 39,
   "metadata": {},
   "outputs": [
    {
     "data": {
      "image/png": "[encoded data removed]",
      "text/plain": [
       "<Figure size 720x576 with 1 Axes>"
      ]
     },
     "metadata": {
      "needs_background": "light"
     },
     "output_type": "display_data"
    }
   ],
   "source": [
    "plt.figure(figsize=(10,8))\n",
    "cm = plt.cm.get_cmap('RdYlBu_r')\n",
    "\n",
    "n, bins, patches = plt.hist(len_words, 15, color='green')\n",
    "\n",
    "col = (n-n.min())/(n.max()-n.min())\n",
    "for c, p in zip(col, patches):\n",
    "    plt.setp(p, 'facecolor', cm(c))\n",
    "    \n",
    "plt.title(\"Distribution of words' length\" , size = 20)\n",
    "plt.xlabel(\"Words' Length\", size = 15)\n",
    "plt.ylabel('Frequency', size = 15)\n",
    "\n",
    "ticks = [(patch.get_x() + (patch.get_x() + patch.get_width()))/2 for patch in patches]\n",
    "\n",
    "ticklabels = range(1, 16)\n",
    "\n",
    "plt.xticks(ticks, ticklabels)\n",
    "\n",
    "plt.show()"
   ]
  },
  {
   "cell_type": "markdown",
   "metadata": {},
   "source": [
    "TASK 6"
   ]
  },
  {
   "cell_type": "code",
   "execution_count": 42,
   "metadata": {},
   "outputs": [],
   "source": [
    "GLASN = 'АЕЁИОУЭЫЮЯаеёиоуэыюя'\n",
    "\n",
    "def translator(my_str):\n",
    "    for char in GLASN:\n",
    "        my_str = re.sub(f'{char}', f'{char}К{char.upper()}', my_str)\n",
    "    return my_str"
   ]
  },
  {
   "cell_type": "code",
   "execution_count": 44,
   "metadata": {},
   "outputs": [
    {
     "name": "stdout",
     "output_type": "stream",
     "text": [
      "\n",
      "ПлаКАстмаКАссоКОвыКЫй миКИр поКОбеКЕдиКИл. \n",
      "МаКАкеКЕт оКОкаКАзаКАлсяКЯ сиКИльнеКЕй. \n",
      "ПоКОслеКЕдниКИй коКОраКАблиКИк оКОстыКЫл. \n",
      "ПоКОслеКЕдниКИй фоКОнаКАриКИк уКУстаКАл, \n",
      "аКА в гоКОрлеКЕ соКОпяКЯт коКОмьяКЯ воКОспоКОмиКИнаКАниКИй... \n",
      "ОКОоКО- моКОяКЯ оКОбоКОроКОнаКА!\n",
      "\n",
      "\n"
     ]
    }
   ],
   "source": [
    "#i'm sorry, but not sorry...\n",
    "\n",
    "letov = '''\n",
    "Пластмассовый мир победил. \n",
    "Макет оказался сильней. \n",
    "Последний кораблик остыл. \n",
    "Последний фонарик устал, \n",
    "а в горле сопят комья воспоминаний... \n",
    "Оо- моя оборона!\n",
    "\n",
    "'''\n",
    "print(translator(letov))\n"
   ]
  }
 ],
 "metadata": {
  "kernelspec": {
   "display_name": "Python 3 (ipykernel)",
   "language": "python",
   "name": "python3"
  },
  "language_info": {
   "codemirror_mode": {
    "name": "ipython",
    "version": 3
   },
   "file_extension": ".py",
   "mimetype": "text/x-python",
   "name": "python",
   "nbconvert_exporter": "python",
   "pygments_lexer": "ipython3",
   "version": "3.7.3"
  }
 },
 "nbformat": 4,
 "nbformat_minor": 2
}
